{
 "cells": [
  {
   "cell_type": "code",
   "execution_count": 35,
   "metadata": {},
   "outputs": [],
   "source": [
    "import pandas as pd\n",
    "import numpy as np"
   ]
  },
  {
   "cell_type": "code",
   "execution_count": 36,
   "metadata": {},
   "outputs": [],
   "source": [
    "df=pd.read_csv('C:/Users/Dragneel/Desktop/finaldata.csv')"
   ]
  },
  {
   "cell_type": "code",
   "execution_count": 37,
   "metadata": {},
   "outputs": [
    {
     "data": {
      "text/html": [
       "<div>\n",
       "<style scoped>\n",
       "    .dataframe tbody tr th:only-of-type {\n",
       "        vertical-align: middle;\n",
       "    }\n",
       "\n",
       "    .dataframe tbody tr th {\n",
       "        vertical-align: top;\n",
       "    }\n",
       "\n",
       "    .dataframe thead th {\n",
       "        text-align: right;\n",
       "    }\n",
       "</style>\n",
       "<table border=\"1\" class=\"dataframe\">\n",
       "  <thead>\n",
       "    <tr style=\"text-align: right;\">\n",
       "      <th></th>\n",
       "      <th>Unnamed: 0</th>\n",
       "      <th>Unnamed: 0.1</th>\n",
       "      <th>doi</th>\n",
       "      <th>pmid</th>\n",
       "      <th>text</th>\n",
       "      <th>link</th>\n",
       "    </tr>\n",
       "  </thead>\n",
       "  <tbody>\n",
       "    <tr>\n",
       "      <th>0</th>\n",
       "      <td>0</td>\n",
       "      <td>0</td>\n",
       "      <td>10.3390/ijms20133193</td>\n",
       "      <td>31261867.0</td>\n",
       "      <td>most methods developed for detecting known sin...</td>\n",
       "      <td>https://www.ncbi.nlm.nih.gov/pmc/articles/PMC6...</td>\n",
       "    </tr>\n",
       "    <tr>\n",
       "      <th>1</th>\n",
       "      <td>1</td>\n",
       "      <td>1</td>\n",
       "      <td>10.1007/s12291-017-0688-8</td>\n",
       "      <td>29062170.0</td>\n",
       "      <td>the current advent of molecular technologies t...</td>\n",
       "      <td>https://www.ncbi.nlm.nih.gov/pmc/articles/PMC5...</td>\n",
       "    </tr>\n",
       "    <tr>\n",
       "      <th>2</th>\n",
       "      <td>2</td>\n",
       "      <td>2</td>\n",
       "      <td>10.1111/1751-7915.12778</td>\n",
       "      <td>28696008.0</td>\n",
       "      <td>the controlled in situ delivery of biologics (...</td>\n",
       "      <td>https://www.ncbi.nlm.nih.gov/pmc/articles/PMC5...</td>\n",
       "    </tr>\n",
       "    <tr>\n",
       "      <th>3</th>\n",
       "      <td>3</td>\n",
       "      <td>5</td>\n",
       "      <td>10.1371/journal.pone.0176286</td>\n",
       "      <td>28520731.0</td>\n",
       "      <td>phenylketonuria (pku) is a genetic disease cha...</td>\n",
       "      <td>https://www.ncbi.nlm.nih.gov/pmc/articles/PMC5...</td>\n",
       "    </tr>\n",
       "    <tr>\n",
       "      <th>4</th>\n",
       "      <td>4</td>\n",
       "      <td>6</td>\n",
       "      <td>10.3390/metabo9010012</td>\n",
       "      <td>30641898.0</td>\n",
       "      <td>in metabolic diagnostics, there is an emerging...</td>\n",
       "      <td>https://www.ncbi.nlm.nih.gov/pmc/articles/PMC6...</td>\n",
       "    </tr>\n",
       "  </tbody>\n",
       "</table>\n",
       "</div>"
      ],
      "text/plain": [
       "   Unnamed: 0  Unnamed: 0.1                           doi        pmid  \\\n",
       "0           0             0          10.3390/ijms20133193  31261867.0   \n",
       "1           1             1     10.1007/s12291-017-0688-8  29062170.0   \n",
       "2           2             2       10.1111/1751-7915.12778  28696008.0   \n",
       "3           3             5  10.1371/journal.pone.0176286  28520731.0   \n",
       "4           4             6         10.3390/metabo9010012  30641898.0   \n",
       "\n",
       "                                                text  \\\n",
       "0  most methods developed for detecting known sin...   \n",
       "1  the current advent of molecular technologies t...   \n",
       "2  the controlled in situ delivery of biologics (...   \n",
       "3  phenylketonuria (pku) is a genetic disease cha...   \n",
       "4  in metabolic diagnostics, there is an emerging...   \n",
       "\n",
       "                                                link  \n",
       "0  https://www.ncbi.nlm.nih.gov/pmc/articles/PMC6...  \n",
       "1  https://www.ncbi.nlm.nih.gov/pmc/articles/PMC5...  \n",
       "2  https://www.ncbi.nlm.nih.gov/pmc/articles/PMC5...  \n",
       "3  https://www.ncbi.nlm.nih.gov/pmc/articles/PMC5...  \n",
       "4  https://www.ncbi.nlm.nih.gov/pmc/articles/PMC6...  "
      ]
     },
     "execution_count": 37,
     "metadata": {},
     "output_type": "execute_result"
    }
   ],
   "source": [
    "df.head()"
   ]
  },
  {
   "cell_type": "code",
   "execution_count": 38,
   "metadata": {},
   "outputs": [],
   "source": [
    "df=df.drop(['Unnamed: 0', 'Unnamed: 0.1','doi','link','pmid'], axis=1)"
   ]
  },
  {
   "cell_type": "code",
   "execution_count": 39,
   "metadata": {},
   "outputs": [
    {
     "data": {
      "text/html": [
       "<div>\n",
       "<style scoped>\n",
       "    .dataframe tbody tr th:only-of-type {\n",
       "        vertical-align: middle;\n",
       "    }\n",
       "\n",
       "    .dataframe tbody tr th {\n",
       "        vertical-align: top;\n",
       "    }\n",
       "\n",
       "    .dataframe thead th {\n",
       "        text-align: right;\n",
       "    }\n",
       "</style>\n",
       "<table border=\"1\" class=\"dataframe\">\n",
       "  <thead>\n",
       "    <tr style=\"text-align: right;\">\n",
       "      <th></th>\n",
       "      <th>text</th>\n",
       "    </tr>\n",
       "  </thead>\n",
       "  <tbody>\n",
       "    <tr>\n",
       "      <th>0</th>\n",
       "      <td>most methods developed for detecting known sin...</td>\n",
       "    </tr>\n",
       "    <tr>\n",
       "      <th>1</th>\n",
       "      <td>the current advent of molecular technologies t...</td>\n",
       "    </tr>\n",
       "    <tr>\n",
       "      <th>2</th>\n",
       "      <td>the controlled in situ delivery of biologics (...</td>\n",
       "    </tr>\n",
       "    <tr>\n",
       "      <th>3</th>\n",
       "      <td>phenylketonuria (pku) is a genetic disease cha...</td>\n",
       "    </tr>\n",
       "    <tr>\n",
       "      <th>4</th>\n",
       "      <td>in metabolic diagnostics, there is an emerging...</td>\n",
       "    </tr>\n",
       "  </tbody>\n",
       "</table>\n",
       "</div>"
      ],
      "text/plain": [
       "                                                text\n",
       "0  most methods developed for detecting known sin...\n",
       "1  the current advent of molecular technologies t...\n",
       "2  the controlled in situ delivery of biologics (...\n",
       "3  phenylketonuria (pku) is a genetic disease cha...\n",
       "4  in metabolic diagnostics, there is an emerging..."
      ]
     },
     "execution_count": 39,
     "metadata": {},
     "output_type": "execute_result"
    }
   ],
   "source": [
    "df.head()"
   ]
  },
  {
   "cell_type": "code",
   "execution_count": null,
   "metadata": {},
   "outputs": [],
   "source": []
  },
  {
   "cell_type": "markdown",
   "metadata": {},
   "source": [
    "### applying algo"
   ]
  },
  {
   "cell_type": "code",
   "execution_count": 40,
   "metadata": {},
   "outputs": [],
   "source": [
    "from sklearn.feature_extraction.text import TfidfVectorizer\n",
    "from sklearn.cluster import KMeans\n",
    "from sklearn.metrics import adjusted_rand_score"
   ]
  },
  {
   "cell_type": "code",
   "execution_count": 41,
   "metadata": {},
   "outputs": [],
   "source": [
    "doc=df['text'].tolist()"
   ]
  },
  {
   "cell_type": "code",
   "execution_count": null,
   "metadata": {},
   "outputs": [],
   "source": []
  },
  {
   "cell_type": "code",
   "execution_count": 42,
   "metadata": {},
   "outputs": [],
   "source": [
    "vectorizer = TfidfVectorizer(stop_words='english')\n",
    "X = vectorizer.fit_transform(doc)"
   ]
  },
  {
   "cell_type": "code",
   "execution_count": 43,
   "metadata": {},
   "outputs": [
    {
     "data": {
      "text/plain": [
       "<876x14271 sparse matrix of type '<class 'numpy.float64'>'\n",
       "\twith 86968 stored elements in Compressed Sparse Row format>"
      ]
     },
     "execution_count": 43,
     "metadata": {},
     "output_type": "execute_result"
    }
   ],
   "source": [
    "X"
   ]
  },
  {
   "cell_type": "code",
   "execution_count": 47,
   "metadata": {},
   "outputs": [
    {
     "data": {
      "text/plain": [
       "KMeans(algorithm='auto', copy_x=True, init='k-means++', max_iter=100,\n",
       "       n_clusters=6, n_init=1, n_jobs=None, precompute_distances='auto',\n",
       "       random_state=None, tol=0.0001, verbose=0)"
      ]
     },
     "execution_count": 47,
     "metadata": {},
     "output_type": "execute_result"
    }
   ],
   "source": [
    "true_k = 6\n",
    "model = KMeans(n_clusters=true_k, init='k-means++', max_iter=100, n_init=1)\n",
    "model.fit(X)"
   ]
  },
  {
   "cell_type": "code",
   "execution_count": 48,
   "metadata": {},
   "outputs": [
    {
     "name": "stdout",
     "output_type": "stream",
     "text": [
      "Top terms per cluster:\n",
      "Cluster 0:\n",
      " health\n",
      " food\n",
      " metabolites\n",
      " metabolomics\n",
      " human\n",
      " nutrition\n",
      " disease\n",
      " applications\n",
      " review\n",
      " amino\n",
      "Cluster 1:\n",
      " pku\n",
      " phe\n",
      " phenylalanine\n",
      " patients\n",
      " pah\n",
      " phenylketonuria\n",
      " diet\n",
      " levels\n",
      " blood\n",
      " treatment\n",
      "Cluster 2:\n",
      " screening\n",
      " ms\n",
      " dbs\n",
      " newborn\n",
      " nbs\n",
      " blood\n",
      " samples\n",
      " newborns\n",
      " iem\n",
      " method\n",
      "Cluster 3:\n",
      " liver\n",
      " mice\n",
      " gene\n",
      " expression\n",
      " cells\n",
      " bh4\n",
      " cell\n",
      " delivery\n",
      " tissue\n",
      " therapy\n",
      "Cluster 4:\n",
      " patients\n",
      " disorders\n",
      " rare\n",
      " diseases\n",
      " asd\n",
      " genetic\n",
      " disease\n",
      " diagnosis\n",
      " clinical\n",
      " associated\n",
      "Cluster 5:\n",
      " children\n",
      " health\n",
      " parents\n",
      " research\n",
      " care\n",
      " child\n",
      " genetic\n",
      " data\n",
      " nbs\n",
      " information\n",
      "\n",
      "\n",
      "Prediction\n"
     ]
    }
   ],
   "source": [
    "print(\"Top terms per cluster:\")\n",
    "order_centroids = model.cluster_centers_.argsort()[:, ::-1]\n",
    "terms = vectorizer.get_feature_names()\n",
    "for i in range(true_k):\n",
    "    print(\"Cluster %d:\" % i),\n",
    "    for ind in order_centroids[i, :10]:\n",
    "        print(' %s' % terms[ind]),\n",
    "    print\n",
    "\n",
    "print(\"\\n\")\n",
    "print(\"Prediction\")"
   ]
  },
  {
   "cell_type": "code",
   "execution_count": 49,
   "metadata": {},
   "outputs": [
    {
     "name": "stdout",
     "output_type": "stream",
     "text": [
      "[4]\n"
     ]
    }
   ],
   "source": [
    "\n",
    "Y = vectorizer.transform([\"INSERT TEXT HERE !\"])\n",
    "prediction = model.predict(Y)\n",
    "print(prediction)\n",
    "\n"
   ]
  },
  {
   "cell_type": "code",
   "execution_count": null,
   "metadata": {},
   "outputs": [],
   "source": []
  }
 ],
 "metadata": {
  "kernelspec": {
   "display_name": "Python 3",
   "language": "python",
   "name": "python3"
  },
  "language_info": {
   "codemirror_mode": {
    "name": "ipython",
    "version": 3
   },
   "file_extension": ".py",
   "mimetype": "text/x-python",
   "name": "python",
   "nbconvert_exporter": "python",
   "pygments_lexer": "ipython3",
   "version": "3.7.3"
  }
 },
 "nbformat": 4,
 "nbformat_minor": 2
}
